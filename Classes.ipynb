{
 "cells": [
  {
   "cell_type": "code",
   "execution_count": 1,
   "metadata": {},
   "outputs": [],
   "source": [
    "import pandas as pd\n",
    "import numpy as np\n",
    "import seaborn as sns\n",
    "import matplotlib.pyplot as plt\n",
    "from scipy.stats import norm\n",
    "import yfinance as yf\n",
    "import datetime as dt\n",
    "import streamlit as st"
   ]
  },
  {
   "cell_type": "code",
   "execution_count": 5,
   "metadata": {},
   "outputs": [],
   "source": [
    "class Models:\n",
    "    def __init__(self):\n",
    "        pass"
   ]
  },
  {
   "cell_type": "code",
   "execution_count": 6,
   "metadata": {},
   "outputs": [],
   "source": [
    "class Heston(Models):\n",
    "    def __init__(self):\n",
    "        pass"
   ]
  },
  {
   "cell_type": "code",
   "execution_count": 7,
   "metadata": {},
   "outputs": [],
   "source": [
    "class Stochastic(Models):\n",
    "    def __init__(self):\n",
    "        pass"
   ]
  },
  {
   "cell_type": "code",
   "execution_count": 2,
   "metadata": {},
   "outputs": [],
   "source": [
    "class Blackscholes:\n",
    "    def __init__(self,Strike,Stock,Time,RFR,Vol=None):\n",
    "        ''' Basic Black Scholes calculator '''\n",
    "        args = [Strike,Stock,Time,Vol,RFR]\n",
    "        for i in args :\n",
    "            if not isinstance(i,(int,float,dict)):\n",
    "                raise Exception('Please check the types of the arguments, only float and int are accepted as valid arguments')\n",
    "        else:   \n",
    "            self.strike = Strike\n",
    "            self.stock = Stock\n",
    "            self.time = Time\n",
    "            self.vol = Vol\n",
    "            self.rf = RFR\n",
    "\n",
    "    def __calculate_d_option(self):\n",
    "        pass\n",
    "\n",
    "    def __Calculate_price(self):\n",
    "        pass\n"
   ]
  },
  {
   "cell_type": "code",
   "execution_count": 3,
   "metadata": {},
   "outputs": [],
   "source": [
    "class call_option(Blackscholes):\n",
    "    '''Call option class'''\n",
    "    def __init__(self,Strike,Time,RFR,populate=False,Stock=None,ticker=None,Vol=None):\n",
    "        if populate:\n",
    "            self.strike = Strike\n",
    "            self.time = Time\n",
    "            self.ticker = ticker\n",
    "            self.rf = RFR\n",
    "            self.data = yf.download(self.ticker,start=dt.datetime.now() - dt.timedelta(365),end=dt.datetime.now())\n",
    "            self.stock = np.round(self.data['Close'].iloc[-1,0],4)\n",
    "            self.vol = np.round(self.data['Close'].pct_change().dropna().std().iloc[0],4)\n",
    "        else:\n",
    "            super().__init__(Strike, Stock, Time, RFR,Vol)\n",
    "    \n",
    "    def calculate_d_call(self):\n",
    "        d1 = (np.log(self.stock / self.strike) + (self.rf + (self.vol ** 2) / 2) * self.time) / (self.vol * np.sqrt(self.time))\n",
    "        d2 = d1 - self.vol * np.sqrt(self.time)\n",
    "        return d1,d2\n",
    "    \n",
    "    def Calculate_price_call(self):\n",
    "        d1 = self.calculate_d_call()[0]\n",
    "        d2 = self.calculate_d_call()[1]\n",
    "        price = self.stock * norm.cdf(d1) - ((self.strike * np.exp(-self.rf*self.time))*norm.cdf(d2))\n",
    "        return price\n",
    "    "
   ]
  },
  {
   "cell_type": "code",
   "execution_count": 4,
   "metadata": {},
   "outputs": [],
   "source": [
    "class put_option(Blackscholes):\n",
    "    '''Put option class'''\n",
    "    def __init__(self,Strike,Time,RFR,populate=False,Stock=None,ticker=None,Vol=None):\n",
    "        if populate:\n",
    "            self.strike = Strike\n",
    "            self.time = Time\n",
    "            self.ticker = ticker\n",
    "            self.rf = RFR\n",
    "            self.data = yf.download(self.ticker,start=dt.datetime.now() - dt.timedelta(365),end=dt.datetime.now())\n",
    "            self.stock = np.round(self.data['Close'].iloc[-1,0],4)\n",
    "            self.vol = np.round(self.data['Close'].pct_change().dropna().std().iloc[0],4)\n",
    "        else:\n",
    "            super().__init__(Strike, Stock, Time, RFR,Vol)\n",
    "    \n",
    "    def calculate_d_put(self):\n",
    "        d1 = (np.log(self.stock / self.strike) + (self.rf + (self.vol ** 2) / 2) * self.time) / (self.vol * np.sqrt(self.time))\n",
    "        d2 = d1 - self.vol * np.sqrt(self.time)\n",
    "        return d1,d2\n",
    "    \n",
    "    def Calculate_price_put(self):\n",
    "        d1 = self.calculate_d_put()[0]\n",
    "        d2 = self.calculate_d_put()[1]\n",
    "        price = self.strike * np.exp(-self.rf * self.time) * norm.cdf(-d2) - self.stock * norm.cdf(-d1)\n",
    "        return price"
   ]
  },
  {
   "cell_type": "code",
   "execution_count": null,
   "metadata": {},
   "outputs": [],
   "source": []
  },
  {
   "cell_type": "code",
   "execution_count": null,
   "metadata": {},
   "outputs": [],
   "source": []
  },
  {
   "cell_type": "code",
   "execution_count": null,
   "metadata": {},
   "outputs": [],
   "source": []
  }
 ],
 "metadata": {
  "kernelspec": {
   "display_name": "Python 3",
   "language": "python",
   "name": "python3"
  },
  "language_info": {
   "codemirror_mode": {
    "name": "ipython",
    "version": 3
   },
   "file_extension": ".py",
   "mimetype": "text/x-python",
   "name": "python",
   "nbconvert_exporter": "python",
   "pygments_lexer": "ipython3",
   "version": "3.13.1"
  }
 },
 "nbformat": 4,
 "nbformat_minor": 2
}
